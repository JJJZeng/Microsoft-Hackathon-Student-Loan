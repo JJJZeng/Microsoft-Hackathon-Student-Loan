{
 "cells": [
  {
   "cell_type": "code",
   "execution_count": 1,
   "metadata": {},
   "outputs": [],
   "source": [
    "from openai import AzureOpenAI\n",
    "from dotenv import dotenv_values\n",
    "import json"
   ]
  },
  {
   "cell_type": "code",
   "execution_count": 2,
   "metadata": {},
   "outputs": [],
   "source": [
    "from prompts import prompt_gpt"
   ]
  },
  {
   "cell_type": "code",
   "execution_count": 3,
   "metadata": {},
   "outputs": [],
   "source": [
    "config =dotenv_values(\"Configuration.env\")"
   ]
  },
  {
   "cell_type": "code",
   "execution_count": 4,
   "metadata": {},
   "outputs": [],
   "source": [
    "endpoint=config['ENDPOINT_URL']\n",
    "deployment=config['DEPLOYMENT_NAME']\n",
    "search_endpoint=config['SEARCH_ENDPOINT']\n",
    "search_key=config['SEARCH_KEY']\n",
    "subscription_key=config['AZURE_OPENAI_API_KEY']"
   ]
  },
  {
   "cell_type": "code",
   "execution_count": 5,
   "metadata": {},
   "outputs": [],
   "source": [
    "def invoke_llm(query):\n",
    "    client =AzureOpenAI(\n",
    "        azure_endpoint=endpoint,\n",
    "        api_key=subscription_key,\n",
    "        api_version=\"2024-05-01-preview\"\n",
    "    )\n",
    "    \n",
    "    prompt=prompt_gpt.PROMPT\n",
    "    messages = [\n",
    "        {\n",
    "            \"role\": \"system\",\n",
    "            \"content\": f\"{prompt}\"\n",
    "        },\n",
    "        {\n",
    "            \"role\":\"user\",\n",
    "            \"content\":f\"{query}\"\n",
    "        }        \n",
    "    ]\n",
    "    \n",
    "    completion= client.chat.completions.create(\n",
    "        model=deployment,\n",
    "        messages=messages,\n",
    "        max_tokens=1000,\n",
    "        temperature=0.1,\n",
    "        top_p=0.95,\n",
    "        frequency_penalty=0,\n",
    "        presence_penalty=0,\n",
    "        stop=None,\n",
    "        stream=False,\n",
    "        extra_body={\n",
    "            \"data_sources\":[\n",
    "                {\n",
    "                    \"type\":\"azure_search\",\n",
    "                    \"parameters\":{\n",
    "                        \"filter\":None,\n",
    "                        \"endpoint\": f\"{search_endpoint}\",\n",
    "                        \"index_name\": config[\"INDEX_NAME\"],\n",
    "                        \"semantic_configuration\":\"azureml-default\",\n",
    "                        \"authentication\": {\n",
    "                            \"type\":\"api_key\",\n",
    "                            \"key\":f\"{search_key}\"\n",
    "                        },\n",
    "                        \"embedding_dependency\":{\n",
    "                            \"type\":\"endpoint\",\n",
    "                            \"endpoint\":f\"{endpoint}/openai/deployments/text-embedding-ada-002/embeddings?api-version=2023-05-15\",\n",
    "                            \"authentication\":{\n",
    "                                \"type\": \"api_key\",\n",
    "                                \"key\":f\"{subscription_key}\"\n",
    "                            }\n",
    "                        },\n",
    "                        \"query_type\":\"vector_simple_hybrid\",\n",
    "                        \"in_scope\":True,\n",
    "                        \"role_information\":f\"{prompt}\",\n",
    "                        \"strictness\":3,\n",
    "                        \"top_n_documents\":10\n",
    "                    }\n",
    "                }\n",
    "            ]\n",
    "        }\n",
    "        \n",
    "    )\n",
    "    \n",
    "    res=json.loads(completion.to_json())\n",
    "    \n",
    "    return res\n",
    "    "
   ]
  },
  {
   "cell_type": "code",
   "execution_count": null,
   "metadata": {},
   "outputs": [],
   "source": [
    "# query=\"How can I Update my Financial Institution Information?\"\n",
    "# query=\"What is a GCKey?\"\n",
    "query=\"I did not receive a welcome email. How do I register?\""
   ]
  },
  {
   "cell_type": "code",
   "execution_count": 7,
   "metadata": {},
   "outputs": [],
   "source": [
    "result=invoke_llm(query=query)"
   ]
  },
  {
   "cell_type": "code",
   "execution_count": 8,
   "metadata": {},
   "outputs": [
    {
     "name": "stdout",
     "output_type": "stream",
     "text": [
      "If you did not receive a welcome email, you can still register your NSLSC account by following these steps:\n",
      "\n",
      "1. Go to the registration page and click \"Click here to continue to register.\" You will be directed to enter your Date of Birth and Social Insurance Number (SIN) [doc3].\n",
      "2. Generate your Secure Access Code (SAC). This code will be sent to the email address on file with your account. If you previously used your username and password, you will have the opportunity to update your email address at this step [doc3].\n",
      "3. If you do not receive the Secure Access Code email within a few minutes, check your Spam and Junk folders or search your email for messages from \"info@nslsc.ca\" with the subject line \"Your secure Access Code/Votre code d'accès sécurisé\" [doc2].\n",
      "4. Once you receive the Secure Access Code, enter it on the website and select \"Continue.\" Keep this code handy, as it will be required again later in the registration process [doc2].\n",
      "\n",
      "If you continue to experience issues receiving emails, consider using alternative authentication methods such as:\n",
      "\n",
      "- Registering with your smartphone number to receive a security code via SMS text message [doc6].\n",
      "- Registering with your landline phone number to receive a security code via voice message [doc7].\n",
      "- Using a unique Passcode Grid if you cannot use a telephone or authenticator app [doc5].\n",
      "\n",
      "Ensure your contact information is accurate and updated during the registration process to avoid future issues.\n"
     ]
    }
   ],
   "source": [
    "print(result[\"choices\"][0][\"message\"]['content'])\n"
   ]
  },
  {
   "cell_type": "code",
   "execution_count": 21,
   "metadata": {},
   "outputs": [],
   "source": [
    "from utils import get_logger,clean_html_tags"
   ]
  },
  {
   "cell_type": "code",
   "execution_count": 23,
   "metadata": {},
   "outputs": [
    {
     "data": {
      "text/plain": [
       "[{'raw_text': 'Title: How-to-Customize-My-Payment-Terms_E.pdf5.Review your revised repayment schedule. You can go back and make edits or select the Submit button to confirm changes. 6.A confirmation page will appear confirming the customization of your pay ment information. You will also receive an email confirming the changes. Page 3',\n",
       "  'source_url': 'How-to-Customize-My-Payment-Terms_E.pdf'},\n",
       " {'raw_text': 'Title: How-to-Register-your-NSLSC-Account_Oct2023_EN.pdf Page 19 It can take a few minutes to receive the email containing your temporary Secure Access Code (SAC) . If you can’t find the email, please try the following: • Check your Spam and Junk folder • Search your email for messages from info@nslsc.ca with the subject line Your secure Access Cod',\n",
       "  'source_url': 'How-to-Register-your-NSLSC-Account_Oct2023_EN.pdf'},\n",
       " {'raw_text': 'Title: How-to-Register-your-NSLSC-Account_Oct2023_EN.pdf Page 18 3c. Upon clicking Click here to continue to register , you will be directed to a new page to enter your Date of Birth and Social Insurance Number (SIN) . 3d. Generate My Secure Access Code (SAC) . The Secure Access Code (SAC) will be sent to the email address on file with your account',\n",
       "  'source_url': 'How-to-Register-your-NSLSC-Account_Oct2023_EN.pdf'},\n",
       " {'raw_text': 'Title: How-to-Register-your-NSLSC-Account_Oct2023_EN.pdf Page 6 GCKey If you want to sign in with GCKey, select Continue to GCKey . You can sign up for a GCKey username and password if you do not have one. • If you have used GCKey before, you can enter your existing GCKey username . • If you have forgotten your existing GCKey username , you will ha',\n",
       "  'source_url': 'How-to-Register-your-NSLSC-Account_Oct2023_EN.pdf'},\n",
       " {'raw_text': 'Title: How-to-Register-your-NSLSC-Account_Oct2023_EN.pdf Page 15 Passcode Grid You may use the unique Passcode Grid option if you are unable to use a telephone to receive a one- time pass code sent by the authenticator app, SMS , or automated voice message . You will need to save or print this grid for future use. When you sign in, you will be aske',\n",
       "  'source_url': 'How-to-Register-your-NSLSC-Account_Oct2023_EN.pdf'},\n",
       " {'raw_text': 'Title: How-to-Register-your-NSLSC-Account_Oct2023_EN.pdf Page 13 Text Message (SMS) You can register with your smart phone number to receive a security code by SMS text message. If you have an international phone number, please choose the appropriate country from the drop -down menu and enter your phone number without the country code.',\n",
       "  'source_url': 'How-to-Register-your-NSLSC-Account_Oct2023_EN.pdf'},\n",
       " {'raw_text': 'Title: How-to-Register-your-NSLSC-Account_Oct2023_EN.pdf Page 14 Voice Message Similar to the SMS t ext message option, you can register with your landline phone number to receive a security code by phone call. If you have an international phone number, please choose the appropriate country from the drop -down menu and enter your phone number witho',\n",
       "  'source_url': 'How-to-Register-your-NSLSC-Account_Oct2023_EN.pdf'},\n",
       " {'raw_text': 'Title: How-to-Activate-PAD-Instructions_E.pdf4.A confirmation page will appear confirming the activation of Pre-Authorized Debit. You will also r eceive a confirmation email in your NSLSC inbox. Page 3',\n",
       "  'source_url': 'How-to-Activate-PAD-Instructions_E.pdf'},\n",
       " {'raw_text': 'How to Apply When you apply and qualify for student financial assistance, you are automatically assessed for Canada Student Grants and Loans. The loan amount you may receive is calculated based on factors including: tuition fees and education costs; your savings/financial contributions; your living situation; annual income; and financial assets and',\n",
       "  'source_url': 'How to Apply.html'}]"
      ]
     },
     "execution_count": 23,
     "metadata": {},
     "output_type": "execute_result"
    }
   ],
   "source": [
    "search_results=result[\"choices\"][0][\"message\"]['context']['citations']\n",
    "\n",
    "\n",
    "[({\n",
    "    'raw_text': (clean_html_tags(doc['content'])[0:350] if \"content\" in doc else \"\"),\n",
    "    'source_url': (doc['url'] if \"url\" in doc else \"\")\n",
    "    })\n",
    "for doc in search_results[:10]]"
   ]
  },
  {
   "cell_type": "code",
   "execution_count": 17,
   "metadata": {},
   "outputs": [],
   "source": [
    "search_results=result[\"choices\"][0][\"message\"]['context']['citations']"
   ]
  },
  {
   "cell_type": "code",
   "execution_count": 20,
   "metadata": {},
   "outputs": [
    {
     "data": {
      "text/plain": [
       "'Title: How-to-Customize-My-Payment-Terms_E.pdf5.Review your revised repayment schedule. You can go back and make edits or select the\\nSubmit button to confirm changes.\\n6.A confirmation\\n page will appear confirming the customization of your pay ment information. You will\\nalso receive an email confirming the changes.\\nPage 3\\n'"
      ]
     },
     "execution_count": 20,
     "metadata": {},
     "output_type": "execute_result"
    }
   ],
   "source": [
    "search_results[0]['content']"
   ]
  },
  {
   "cell_type": "markdown",
   "metadata": {},
   "source": [
    "### enable streamng"
   ]
  },
  {
   "cell_type": "code",
   "execution_count": 6,
   "metadata": {},
   "outputs": [
    {
     "name": "stdout",
     "output_type": "stream",
     "text": [
      "To update your Financial Institution Information with the National Student Loans Service Centre (NSLSC), follow these steps:\n",
      "\n",
      "1. Log in to your NSLSC account [doc1].\n",
      "2. Select \"Financial Institution Information\" from the \"My Account\" drop-down menu [doc1].\n",
      "3. Add or update your financial institution information [doc2].\n",
      "4. Enter your financial institution details, review and accept the Terms and Conditions, and click \"Update\" to complete the process [doc2].\n",
      "5. After submission, you will be redirected to the Financial Institution Information page, where a successful update message will appear. Additionally, a confirmation message will be sent to your NSLSC inbox [doc3]."
     ]
    }
   ],
   "source": [
    "query=\"How can I Update my Financial Institution Information?\"\n",
    "client =AzureOpenAI(\n",
    "    azure_endpoint=endpoint,\n",
    "    api_key=subscription_key,\n",
    "    api_version=\"2024-05-01-preview\"\n",
    ")\n",
    "\n",
    "prompt=prompt_gpt.PROMPT\n",
    "messages = [\n",
    "    {\n",
    "        \"role\": \"system\",\n",
    "        \"content\": f\"{prompt}\"\n",
    "    },\n",
    "    {\n",
    "        \"role\":\"user\",\n",
    "        \"content\":f\"{query}\"\n",
    "    }        \n",
    "]\n",
    "\n",
    "completion= client.chat.completions.create(\n",
    "    model=deployment,\n",
    "    messages=messages,\n",
    "    max_tokens=1000,\n",
    "    temperature=0.1,\n",
    "    top_p=0.95,\n",
    "    frequency_penalty=0,\n",
    "    presence_penalty=0,\n",
    "    stop=None,\n",
    "    stream=True,\n",
    "    extra_body={\n",
    "        \"data_sources\":[\n",
    "            {\n",
    "                \"type\":\"azure_search\",\n",
    "                \"parameters\":{\n",
    "                    \"filter\":None,\n",
    "                    \"endpoint\": f\"{search_endpoint}\",\n",
    "                    \"index_name\": config[\"INDEX_NAME\"],\n",
    "                    \"semantic_configuration\":\"azureml-default\",\n",
    "                    \"authentication\": {\n",
    "                        \"type\":\"api_key\",\n",
    "                        \"key\":f\"{search_key}\"\n",
    "                    },\n",
    "                    \"embedding_dependency\":{\n",
    "                        \"type\":\"endpoint\",\n",
    "                        \"endpoint\":f\"{endpoint}/openai/deployments/text-embedding-ada-002/embeddings?api-version=2023-05-15\",\n",
    "                        \"authentication\":{\n",
    "                            \"type\": \"api_key\",\n",
    "                            \"key\":f\"{subscription_key}\"\n",
    "                        }\n",
    "                    },\n",
    "                    \"query_type\":\"vector_simple_hybrid\",\n",
    "                    \"in_scope\":True,\n",
    "                    \"role_information\":f\"{prompt}\",\n",
    "                    \"strictness\":3,\n",
    "                    \"top_n_documents\":10\n",
    "                }\n",
    "            }\n",
    "        ]\n",
    "    }\n",
    "    \n",
    ")\n",
    "\n",
    "for update in completion:\n",
    "    if update.choices:\n",
    "        print(update.choices[0].delta.content or \"\",end=\"\")\n",
    "\n",
    "client.close()"
   ]
  }
 ],
 "metadata": {
  "kernelspec": {
   "display_name": "Python 3",
   "language": "python",
   "name": "python3"
  },
  "language_info": {
   "codemirror_mode": {
    "name": "ipython",
    "version": 3
   },
   "file_extension": ".py",
   "mimetype": "text/x-python",
   "name": "python",
   "nbconvert_exporter": "python",
   "pygments_lexer": "ipython3",
   "version": "3.11.9"
  }
 },
 "nbformat": 4,
 "nbformat_minor": 2
}
